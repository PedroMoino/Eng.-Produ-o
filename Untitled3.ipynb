{
  "nbformat": 4,
  "nbformat_minor": 0,
  "metadata": {
    "colab": {
      "provenance": [],
      "authorship_tag": "ABX9TyP+JSgMldGHPupZr0y5zIIN",
      "include_colab_link": true
    },
    "kernelspec": {
      "name": "python3",
      "display_name": "Python 3"
    },
    "language_info": {
      "name": "python"
    }
  },
  "cells": [
    {
      "cell_type": "markdown",
      "metadata": {
        "id": "view-in-github",
        "colab_type": "text"
      },
      "source": [
        "<a href=\"https://colab.research.google.com/github/PedroMoino/Eng.Producao/blob/main/Untitled3.ipynb\" target=\"_parent\"><img src=\"https://colab.research.google.com/assets/colab-badge.svg\" alt=\"Open In Colab\"/></a>"
      ]
    },
    {
      "cell_type": "markdown",
      "source": [
        "# Aula de Revisão"
      ],
      "metadata": {
        "id": "qFuM1jwyh9GY"
      }
    },
    {
      "cell_type": "markdown",
      "source": [
        "# Exercício 08"
      ],
      "metadata": {
        "id": "EeJ1Xgigh0Ro"
      }
    },
    {
      "cell_type": "code",
      "source": [
        "while True:\n",
        "  resposta = input(\"Deseja realizar a soma de 2 variáveis? (S/N): \").strip().upper()\n",
        "  if resposta == \"S\":\n",
        "    var1= float(input(\"Digite o primeira variável: \"))\n",
        "    var2= float(input(\"Digite o segunda variável: \"))\n",
        "    soma = var1 + var2\n",
        "    print(f\"A soma de {var1} e {var2} é {soma:.2f}\\n\")\n",
        "  elif resposta == 'N':\n",
        "      print(\"Operação finalizada.\")\n",
        "      break\n",
        "  else:\n",
        "      print(\"Resposta inválida! Por favor, digite 'S' para Sim ou 'N' para Não.\\n\")"
      ],
      "metadata": {
        "colab": {
          "base_uri": "https://localhost:8080/"
        },
        "id": "AMcrfgvBekOf",
        "outputId": "2c340d6a-409c-453f-afa9-bff93bd864c8"
      },
      "execution_count": 32,
      "outputs": [
        {
          "output_type": "stream",
          "name": "stdout",
          "text": [
            "Deseja realizar a soma de 2 variáveis? (S/N): s\n",
            "Digite o primeira variável: 4\n",
            "Digite o segunda variável: 56\n",
            "A soma de 4.0 e 56.0 é 60.00\n",
            "\n",
            "Deseja realizar a soma de 2 variáveis? (S/N): s\n",
            "Digite o primeira variável: 4\n",
            "Digite o segunda variável: 5\n",
            "A soma de 4.0 e 5.0 é 9.00\n",
            "\n",
            "Deseja realizar a soma de 2 variáveis? (S/N): n\n",
            "Operação finalizada.\n"
          ]
        }
      ]
    },
    {
      "cell_type": "markdown",
      "source": [
        "# Exercício 09"
      ],
      "metadata": {
        "id": "tYNz4ZV8iGUx"
      }
    },
    {
      "cell_type": "code",
      "source": [
        "while True:\n",
        "    resposta: input(\"Deseja realizar uma soma? (sim/não): \").lower()\n",
        "    if resposta == \"sim\":\n",
        "        num1 = float(input(\"Digite o primeiro número: \"))\n",
        "        num2 = float(input(\"Digite o segundo número: \"))\n",
        "        soma = num1 + num2  # Cálculo da soma\n",
        "        print(\"A soma é:\" , soma)\n",
        "    else:\n",
        "      print(\"Encerrando o programa.\")\n",
        "      break"
      ],
      "metadata": {
        "colab": {
          "base_uri": "https://localhost:8080/"
        },
        "id": "731zmD85iKfZ",
        "outputId": "bce77eeb-59d4-4106-9966-60a7da164a60"
      },
      "execution_count": 36,
      "outputs": [
        {
          "output_type": "stream",
          "name": "stdout",
          "text": [
            "Deseja realizar uma soma? (sim/não): sim\n",
            "Encerrando o programa.\n"
          ]
        }
      ]
    }
  ]
}