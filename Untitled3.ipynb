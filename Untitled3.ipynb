{
  "nbformat": 4,
  "nbformat_minor": 0,
  "metadata": {
    "colab": {
      "provenance": [],
      "authorship_tag": "ABX9TyPFb1O52KI9LXfm+IdUz+Ca",
      "include_colab_link": true
    },
    "kernelspec": {
      "name": "python3",
      "display_name": "Python 3"
    },
    "language_info": {
      "name": "python"
    }
  },
  "cells": [
    {
      "cell_type": "markdown",
      "metadata": {
        "id": "view-in-github",
        "colab_type": "text"
      },
      "source": [
        "<a href=\"https://colab.research.google.com/github/PedroMoino/Eng.Producao/blob/main/Untitled3.ipynb\" target=\"_parent\"><img src=\"https://colab.research.google.com/assets/colab-badge.svg\" alt=\"Open In Colab\"/></a>"
      ]
    },
    {
      "cell_type": "markdown",
      "source": [
        "# Exercícios Extras\n",
        "\n"
      ],
      "metadata": {
        "id": "_ivqBOB2QXn7"
      }
    },
    {
      "cell_type": "markdown",
      "source": [
        "# Exercício 1\n"
      ],
      "metadata": {
        "id": "RWef7AblSxHq"
      }
    },
    {
      "cell_type": "code",
      "source": [
        "numero= int(input(\" Digite um número\"))\n",
        "if numero % 3 == 0:\n",
        " print(f\"O número {numero} é Múltiplo. \")\n",
        "else:\n",
        " print(f\"O número {numero} é Não é Múltiplo. \")\n"
      ],
      "metadata": {
        "colab": {
          "base_uri": "https://localhost:8080/",
          "height": 0
        },
        "id": "CY0JYwxkQfEU",
        "outputId": "2fd4693b-fa7e-4391-e295-09e786646344"
      },
      "execution_count": 9,
      "outputs": [
        {
          "output_type": "stream",
          "name": "stdout",
          "text": [
            " Digite um número9\n",
            "O número 9 é Múltiplo. \n"
          ]
        }
      ]
    },
    {
      "cell_type": "markdown",
      "source": [
        "# Exercício 2"
      ],
      "metadata": {
        "id": "1dtOUSEedENB"
      }
    },
    {
      "cell_type": "code",
      "source": [
        "a = float(input(\"Digite o valor1: \"))\n",
        "b = float(input(\"Digite o valor2: \"))\n",
        "media_ponderada= ((a*2) + (b*3))/5\n",
        "if media_ponderada >= 5:\n",
        " print(f\"Aprovado {media_ponderada}. \")\n",
        "else:\n",
        " print(f\"Reprovado {media_ponderada}. \")"
      ],
      "metadata": {
        "colab": {
          "base_uri": "https://localhost:8080/"
        },
        "id": "7B5LWQkBdIt6",
        "outputId": "74f4ccf4-7a84-449a-af26-d2cce02f37fe"
      },
      "execution_count": 44,
      "outputs": [
        {
          "output_type": "stream",
          "name": "stdout",
          "text": [
            "Digite o valor1: 8\n",
            "Digite o valor2: 8\n",
            "Aprovado 8.0. \n"
          ]
        }
      ]
    }
  ]
}