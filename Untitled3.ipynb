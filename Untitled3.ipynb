{
  "nbformat": 4,
  "nbformat_minor": 0,
  "metadata": {
    "colab": {
      "provenance": [],
      "authorship_tag": "ABX9TyMfKyZePBdKbJSwpNE9SNN0",
      "include_colab_link": true
    },
    "kernelspec": {
      "name": "python3",
      "display_name": "Python 3"
    },
    "language_info": {
      "name": "python"
    }
  },
  "cells": [
    {
      "cell_type": "markdown",
      "metadata": {
        "id": "view-in-github",
        "colab_type": "text"
      },
      "source": [
        "<a href=\"https://colab.research.google.com/github/PedroMoino/Eng.Producao/blob/main/Untitled3.ipynb\" target=\"_parent\"><img src=\"https://colab.research.google.com/assets/colab-badge.svg\" alt=\"Open In Colab\"/></a>"
      ]
    },
    {
      "cell_type": "markdown",
      "source": [
        "# Exercícios Extras\n",
        "\n"
      ],
      "metadata": {
        "id": "_ivqBOB2QXn7"
      }
    },
    {
      "cell_type": "markdown",
      "source": [
        "# Exercício 1\n"
      ],
      "metadata": {
        "id": "RWef7AblSxHq"
      }
    },
    {
      "cell_type": "code",
      "source": [
        "numero= int(input(\" Digite um número\"))\n",
        "if numero % 3 == 0:\n",
        " print(f\"O número {numero} é Múltiplo. \")\n",
        "else:\n",
        " print(f\"O número {numero} é Não é Múltiplo. \")\n"
      ],
      "metadata": {
        "colab": {
          "base_uri": "https://localhost:8080/",
          "height": 0
        },
        "id": "CY0JYwxkQfEU",
        "outputId": "2fd4693b-fa7e-4391-e295-09e786646344"
      },
      "execution_count": 9,
      "outputs": [
        {
          "output_type": "stream",
          "name": "stdout",
          "text": [
            " Digite um número9\n",
            "O número 9 é Múltiplo. \n"
          ]
        }
      ]
    },
    {
      "cell_type": "markdown",
      "source": [
        "# Exercício 2"
      ],
      "metadata": {
        "id": "1dtOUSEedENB"
      }
    }
  ]
}