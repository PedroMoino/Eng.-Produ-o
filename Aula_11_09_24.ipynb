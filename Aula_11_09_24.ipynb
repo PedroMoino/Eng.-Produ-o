{
  "nbformat": 4,
  "nbformat_minor": 0,
  "metadata": {
    "colab": {
      "provenance": [],
      "authorship_tag": "ABX9TyMzwrRwtrNL/+z40xpyUlhk",
      "include_colab_link": true
    },
    "kernelspec": {
      "name": "python3",
      "display_name": "Python 3"
    },
    "language_info": {
      "name": "python"
    }
  },
  "cells": [
    {
      "cell_type": "markdown",
      "metadata": {
        "id": "view-in-github",
        "colab_type": "text"
      },
      "source": [
        "<a href=\"https://colab.research.google.com/github/PedroMoino/Eng.Producao/blob/main/Aula_11_09_24.ipynb\" target=\"_parent\"><img src=\"https://colab.research.google.com/assets/colab-badge.svg\" alt=\"Open In Colab\"/></a>"
      ]
    },
    {
      "cell_type": "markdown",
      "source": [
        "# Aula 11/09 - Massaki\n"
      ],
      "metadata": {
        "id": "GhZdp5kdL2lJ"
      }
    },
    {
      "cell_type": "code",
      "source": [
        "numero= int(input(\"Digite um número inteiro: \"))\n",
        "if numero % 2 == 0:\n",
        " print(f\"O número {numero} é par. \")\n",
        "else:\n",
        " print(f\"O número {numero} é impar. \")"
      ],
      "metadata": {
        "colab": {
          "base_uri": "https://localhost:8080/"
        },
        "id": "SovwKxrRMGoo",
        "outputId": "8acaa69a-72cd-4147-8036-1fa7b672e370"
      },
      "execution_count": 5,
      "outputs": [
        {
          "output_type": "stream",
          "name": "stdout",
          "text": [
            "Digite um número inteiro: 51\n",
            "O número 51 é impar. \n"
          ]
        }
      ]
    }
  ]
}