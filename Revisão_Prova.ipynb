{
  "nbformat": 4,
  "nbformat_minor": 0,
  "metadata": {
    "colab": {
      "provenance": [],
      "authorship_tag": "ABX9TyOeamFn2gPeJM5pUgFFWx+V",
      "include_colab_link": true
    },
    "kernelspec": {
      "name": "python3",
      "display_name": "Python 3"
    },
    "language_info": {
      "name": "python"
    }
  },
  "cells": [
    {
      "cell_type": "markdown",
      "metadata": {
        "id": "view-in-github",
        "colab_type": "text"
      },
      "source": [
        "<a href=\"https://colab.research.google.com/github/PedroMoino/Eng.Producao/blob/main/Revis%C3%A3o_Prova.ipynb\" target=\"_parent\"><img src=\"https://colab.research.google.com/assets/colab-badge.svg\" alt=\"Open In Colab\"/></a>"
      ]
    },
    {
      "cell_type": "markdown",
      "source": [
        "# Treino de exercícios para a prova"
      ],
      "metadata": {
        "id": "EIwvgAZsfo_1"
      }
    },
    {
      "cell_type": "code",
      "execution_count": 3,
      "metadata": {
        "colab": {
          "base_uri": "https://localhost:8080/"
        },
        "id": "28olxmx2dBh8",
        "outputId": "6261bc43-edba-426c-82b8-823b378ffe3b"
      },
      "outputs": [
        {
          "output_type": "stream",
          "name": "stdout",
          "text": [
            "Digite um número inteiro: 34\n",
            "O número 34 é par. \n"
          ]
        }
      ],
      "source": [
        "numero= int(input(\"Digite um número inteiro: \"))\n",
        "if numero % 2 == 0:\n",
        " print(f\"O número {numero} é par. \")\n",
        "else:\n",
        " print(f\"O número {numero} é impar. \")"
      ]
    },
    {
      "cell_type": "code",
      "source": [
        "import math\n",
        "numero = float(input(\"Digite um número: \"))\n",
        "if numero >= 0:\n",
        "  raiz_quadrada = math.sqrt(numero)\n",
        "  print(f\"A raiz quadrada de {numero} é {raiz_quadrada:.2f}.\")\n",
        "else:\n",
        "  print(\"Não existe raiz real para este número!\")"
      ],
      "metadata": {
        "colab": {
          "base_uri": "https://localhost:8080/"
        },
        "id": "pjj5cVpggDY7",
        "outputId": "70f5ec9d-7d68-4982-cc77-8b33390ad429"
      },
      "execution_count": 9,
      "outputs": [
        {
          "output_type": "stream",
          "name": "stdout",
          "text": [
            "Digite um número: 5\n",
            "A raiz quadrada de 5.0 é 2.24.\n"
          ]
        }
      ]
    },
    {
      "cell_type": "code",
      "source": [
        "comprimento = float(input(\"Digite o comprimento da camiseta em centímetros: \"))\n",
        "largura = float(input(\"Digite a largura da camiseta em centímetros\"))\n",
        "if comprimento <= 60 and largura <=45:\n",
        "  tamanho = \"PP\"\n",
        "elif comprimento <= 65 and largura<= 48:\n",
        "  tamanho = \"P\"\n",
        "elif comprimento <= 70 and largura <= 51:\n",
        "  tamanho = \"M\"\n",
        "elif comprimento <= 75 and largura <= 54:\n",
        "  tamanho = \"G\"\n",
        "elif comprimento <= 80 and largura <= 57:\n",
        "  tamanho = \"GG\"\n",
        "else:\n",
        "  tamanho = \"XGG\"\n",
        "print(f\"O tamanho da camiseta é {tamanho}.\")"
      ],
      "metadata": {
        "colab": {
          "base_uri": "https://localhost:8080/"
        },
        "id": "_LS84Zerg7SS",
        "outputId": "ffd3aab1-a62a-42ca-8ff1-4ba6de5b13b0"
      },
      "execution_count": 17,
      "outputs": [
        {
          "output_type": "stream",
          "name": "stdout",
          "text": [
            "Digite o comprimento da camiseta em centímetros: 70\n",
            "Digite a largura da camiseta em centímetros51\n",
            "O tamanho da camiseta é M.\n"
          ]
        }
      ]
    },
    {
      "cell_type": "code",
      "source": [
        "while True:\n",
        "  resposta = input(\"Deseja realizar a soma de 2 variáveis? (S/N): \").strip().upper()\n",
        "  if resposta == \"S\":\n",
        "    var1= float(input(\"Digite o primeira variável: \"))\n",
        "    var2= float(input(\"Digite o segunda variável: \"))\n",
        "    soma = var1 + var2\n",
        "    print(f\"A soma de {var1} e {var2} é {soma:.2f}\\n\")\n",
        "  elif resposta == 'N':\n",
        "      print(\"Operação finalizada.\")\n",
        "      break\n",
        "  else:\n",
        "      print(\"Resposta inválida! Por favor, digite 'S' para Sim ou 'N' para Não.\\n\")]"
      ],
      "metadata": {
        "colab": {
          "base_uri": "https://localhost:8080/"
        },
        "id": "PK03ncCGhmWX",
        "outputId": "22d3e99a-6f61-4e31-d249-236e5dcd0b21"
      },
      "execution_count": 18,
      "outputs": [
        {
          "output_type": "stream",
          "name": "stdout",
          "text": [
            "Deseja realizar a soma de 2 variáveis? (S/N): s\n",
            "Digite o primeira variável: 3\n",
            "Digite o segunda variável: 9\n",
            "A soma de 3.0 e 9.0 é 12.00\n",
            "\n",
            "Deseja realizar a soma de 2 variáveis? (S/N): t\n",
            "Resposta inválida! Por favor, digite 'S' para Sim ou 'N' para Não.\n",
            "\n",
            "Deseja realizar a soma de 2 variáveis? (S/N): s\n",
            "Digite o primeira variável: 4\n",
            "Digite o segunda variável: 6\n",
            "A soma de 4.0 e 6.0 é 10.00\n",
            "\n",
            "Deseja realizar a soma de 2 variáveis? (S/N): S\n",
            "Digite o primeira variável: 5\n",
            "Digite o segunda variável: 7\n",
            "A soma de 5.0 e 7.0 é 12.00\n",
            "\n",
            "Deseja realizar a soma de 2 variáveis? (S/N): n\n",
            "Operação finalizada.\n"
          ]
        }
      ]
    },
    {
      "cell_type": "code",
      "source": [
        "while True:\n",
        "    resposta: input(\"Deseja realizar uma soma? (sim/não): \").lower()\n",
        "    if resposta == \"sim\":\n",
        "        num1 = float(input(\"Digite o primeiro número: \"))\n",
        "        num2 = float(input(\"Digite o segundo número: \"))\n",
        "        soma = num1 + num2  # Cálculo da soma\n",
        "        print(f\"A soma de {num1} e {num2} é {soma:.2f}\\n\")\n",
        "    else:\n",
        "      print(\"Encerrando o programa.\")\n",
        "      break"
      ],
      "metadata": {
        "colab": {
          "base_uri": "https://localhost:8080/"
        },
        "id": "NaCF1PHriwNQ",
        "outputId": "e167de91-7a90-4a44-813f-ed1fc4ca5a5f"
      },
      "execution_count": 27,
      "outputs": [
        {
          "output_type": "stream",
          "name": "stdout",
          "text": [
            "Deseja realizar uma soma? (sim/não): sim\n",
            "Encerrando o programa.\n"
          ]
        }
      ]
    }
  ]
}